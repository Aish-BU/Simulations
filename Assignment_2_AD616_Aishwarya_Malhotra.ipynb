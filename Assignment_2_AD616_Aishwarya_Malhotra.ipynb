{
 "cells": [
  {
   "attachments": {
    "49cb3ed9-80c8-4e92-b0d9-4d153a587bbb.png": {
     "image/png": "[encoded data removed]"
    }
   },
   "cell_type": "markdown",
   "id": "e2bd6d7c-7788-4688-8b57-81bf53992656",
   "metadata": {},
   "source": [
    "![image.png](attachment:49cb3ed9-80c8-4e92-b0d9-4d153a587bbb.png) \n",
    "<div style=\"text-align: center\"> <h1>Assignment - 2</div>\n"
   ]
  },
  {
   "cell_type": "markdown",
   "id": "45b2b05f-e184-4cf8-9228-0a82b9af911f",
   "metadata": {},
   "source": [
    "<div style=\"text-align: center\"> <h3>AD616 A4 Enterprise Risk Analytics (Spring 2024)</div>\n"
   ]
  },
  {
   "cell_type": "markdown",
   "id": "397014ec-8a7d-4567-86de-c5dab2853bbf",
   "metadata": {},
   "source": [
    "<div style=\"text-align: center\"> <h4>Submitted by: Aishwarya Malhotra (U17161095)</div>\n"
   ]
  },
  {
   "cell_type": "markdown",
   "id": "229e6d13-400a-4c3e-b9d2-effac1da9639",
   "metadata": {},
   "source": [
    "#### Solution - 1 a]"
   ]
  },
  {
   "cell_type": "code",
   "execution_count": 26,
   "id": "b1d7f4a9-c11c-416b-8616-e7449d66b399",
   "metadata": {},
   "outputs": [],
   "source": [
    "library(tidyverse)\n"
   ]
  },
  {
   "cell_type": "code",
   "execution_count": 27,
   "id": "09907380-7529-4b94-89cf-75a8654bbb86",
   "metadata": {},
   "outputs": [],
   "source": [
    "#Initializing seed, specifying the number of uniform samples and number of trails \n",
    "set.seed(123)\n",
    "n <- 100\n",
    "trials <- 10000"
   ]
  },
  {
   "cell_type": "code",
   "execution_count": 28,
   "id": "07b8a700-e756-4141-aa71-3d844eb0e306",
   "metadata": {},
   "outputs": [],
   "source": [
    "#Generate uniform samples\n",
    "uniform_samples <- matrix(runif(n * trials, min = 0, max = 1), ncol = n)"
   ]
  },
  {
   "cell_type": "code",
   "execution_count": 29,
   "id": "6572cfa2-6446-4d49-82b8-da047ed90e56",
   "metadata": {},
   "outputs": [],
   "source": [
    "#Calculate the sum of each row\n",
    "sample_sums <- rowSums(uniform_samples)"
   ]
  },
  {
   "cell_type": "code",
   "execution_count": 30,
   "id": "6fda17ab-c1dd-4237-89f4-a032cb96884a",
   "metadata": {},
   "outputs": [
    {
     "data": {
      "image/png": "[encoded data removed]",
      "text/plain": [
       "plot without title"
      ]
     },
     "metadata": {},
     "output_type": "display_data"
    }
   ],
   "source": [
    "# Plot histogram of the sum of uniform samples\n",
    "ggplot(data.frame(sample_sums), aes(x = sample_sums)) +\n",
    "  geom_histogram(bins = 50, fill = \"pink1\", col = \"deeppink3\", aes(y = ..density..)) + \n",
    "  ggtitle(\"Histogram of Sum of 100 Uniform Samples\") + \n",
    "  xlab(\"Sum\") + \n",
    "  ylab(\"Density\")"
   ]
  },
  {
   "cell_type": "code",
   "execution_count": 31,
   "id": "1c547204-7ee7-474f-8eb3-6dc0fbf3581e",
   "metadata": {},
   "outputs": [],
   "source": [
    "# Parameters for the normal distribution\n",
    "mean_uniform <- n * 0.5\n",
    "var_uniform <- n * (1/12)\n",
    "std_dev_uniform <- sqrt(var_uniform)\n",
    "z <- seq(mean_uniform - 4 * std_dev_uniform, mean_uniform + 4 * std_dev_uniform, length.out = 100)\n"
   ]
  },
  {
   "cell_type": "code",
   "execution_count": 32,
   "id": "53bbb65e-8515-441d-9441-58dc97d5bfbc",
   "metadata": {},
   "outputs": [
    {
     "data": {
      "image/png": "[encoded data removed]",
      "text/plain": [
       "plot without title"
      ]
     },
     "metadata": {},
     "output_type": "display_data"
    }
   ],
   "source": [
    "# Plot density plot of the normal distribution\n",
    "ggplot(data.frame(z), aes(x = z)) + \n",
    "  stat_function(fun = dnorm, args = list(mean = mean_uniform, sd = std_dev_uniform), geom = \"line\", color = \"blue\") + \n",
    "  ggtitle(\"Density Plot of Normal Distribution\") + \n",
    "  xlab(\"Sum of 100 Uniform Samples\") + \n",
    "  ylab(\"Density\")"
   ]
  },
  {
   "cell_type": "code",
   "execution_count": 33,
   "id": "8468db28-0f78-47c3-9267-1cf494c2d743",
   "metadata": {},
   "outputs": [
    {
     "data": {
      "text/html": [
       "49.9528998539752"
      ],
      "text/latex": [
       "49.9528998539752"
      ],
      "text/markdown": [
       "49.9528998539752"
      ],
      "text/plain": [
       "[1] 49.9529"
      ]
     },
     "metadata": {},
     "output_type": "display_data"
    },
    {
     "data": {
      "text/html": [
       "2.90045902348823"
      ],
      "text/latex": [
       "2.90045902348823"
      ],
      "text/markdown": [
       "2.90045902348823"
      ],
      "text/plain": [
       "[1] 2.900459"
      ]
     },
     "metadata": {},
     "output_type": "display_data"
    }
   ],
   "source": [
    "# Calculate the mean and standard deviation of the MC simulation\n",
    "mean_sample_sums <- mean(sample_sums)\n",
    "std_dev_sample_sums <- sd(sample_sums)\n",
    "mean_sample_sums\n",
    "std_dev_sample_sums"
   ]
  },
  {
   "cell_type": "markdown",
   "id": "1a2bfdf8-4e9f-42ee-b84b-4625bcd6488d",
   "metadata": {},
   "source": [
    "> **💡Interpretation of Code💡-**\n",
    ">\n",
    "> The provided code conducts a Monte Carlo simulation to illustrate the Central Limit Theorem using R programming language. The code begins by setting up parameters for the simulation, such as the number of uniform random variables per trial (`n`) and the number of trials (`trials`). A seed is set for reproducibility using `set.seed(123)`. The script generates a matrix of uniform random samples using `runif()`. Each column represents a trial, and each row represents a single uniform random variable. The matrix has dimensions `n * trials`. The script sums each row of the matrix to get the total sum of the uniform random variables for each trial using `rowSums()`. A histogram of the sum of uniform samples is created using `ggplot`. The histogram represents the distribution of the sum across all trials. Density plot of the normal distribution is generated using `ggplot` and `stat_function()`.  The mean and standard deviation of the sum of uniform samples obtained from the Monte Carlo simulation using `mean()` and `sd()` functions."
   ]
  },
  {
   "cell_type": "markdown",
   "id": "57b6d7fd-1c5c-4ccb-88b3-8b43e8ed6efa",
   "metadata": {},
   "source": [
    "> **💡Interpretation of Results💡-**\n",
    ">\n",
    "> Histogram of Sum of 100 Uniform Samples:\n",
    "> The histogram shows the distribution of the sums of 100 uniform random variables obtained from 10,000 trials. The distribution appears approximately normal, with the center around 50, and it shows the variability in the sums across the trials\n",
    ">\n",
    "> Density Plot of Normal Distribution:\n",
    "The density plot represents the theoretical normal distribution calculated using the mean and standard deviation of the sum of 100 uniform random variables. It aligns well with the histogram, indicating that the sum of 100 uniform variables indeed follows a normal distribution as expected by the Central Limit Theorem.\n",
    ">\n",
    ">  Mean: The mean of the sum of 100 uniform random variables obtained from the Monte Carlo simulation is 49.952899853752.\n",
    ">\n",
    "> Standard Deviation: The standard deviation of the sum is 2.90045902348823, indicating the spread or variability of the sum across the trails.\n",
    ">\n",
    " "
   ]
  },
  {
   "cell_type": "markdown",
   "id": "74a2abf5-27f7-4284-a67e-c6b24cb794d9",
   "metadata": {},
   "source": [
    "#### Solution - 1 b]"
   ]
  },
  {
   "cell_type": "code",
   "execution_count": 34,
   "id": "83c056a0-a1cd-4113-9f7e-7d1e5e171247",
   "metadata": {},
   "outputs": [],
   "source": [
    "#Initializing seed, specifying the number of uniform samples and number of trails \n",
    "set.seed(123)\n",
    "trials <-10000\n",
    "n<-10\n",
    "k<-3"
   ]
  },
  {
   "cell_type": "code",
   "execution_count": 16,
   "id": "8ce10553-f0a7-43dd-a409-3535c80bb466",
   "metadata": {},
   "outputs": [],
   "source": [
    "uni_samples2 <- matrix(runif(trials*n,min=0,max=1), ncol = n)\n",
    "View(uni_samples2)"
   ]
  },
  {
   "cell_type": "code",
   "execution_count": 18,
   "id": "5aa95f17-6ed9-4ad9-b1a1-e2c4c98a186c",
   "metadata": {},
   "outputs": [],
   "source": [
    "k_lowest<-apply(uni_samples2,1,sort)[k,]\n",
    "View(k_lowest)"
   ]
  },
  {
   "cell_type": "code",
   "execution_count": 25,
   "id": "6f315f73-0127-48d0-a6d2-3383c16d17fa",
   "metadata": {},
   "outputs": [
    {
     "data": {
      "text/plain": [
       "\n",
       "Call:\n",
       "\tdensity.default(x = beta_dist)\n",
       "\n",
       "Data: beta_dist (10000 obs.);\tBandwidth 'bw' = 0.1157\n",
       "\n",
       "       x                 y            \n",
       " Min.   :-0.3402   Min.   :0.0000787  \n",
       " 1st Qu.: 0.5968   1st Qu.:0.1101579  \n",
       " Median : 1.5339   Median :0.1995096  \n",
       " Mean   : 1.5339   Mean   :0.2664856  \n",
       " 3rd Qu.: 2.4710   3rd Qu.:0.3417389  \n",
       " Max.   : 3.4081   Max.   :1.0004741  "
      ]
     },
     "metadata": {},
     "output_type": "display_data"
    },
    {
     "data": {
      "image/png": "[encoded data removed]",
      "text/plain": [
       "Plot with title \" Third Lowest Histogram\""
      ]
     },
     "metadata": {},
     "output_type": "display_data"
    },
    {
     "data": {
      "image/png": "[encoded data removed]",
      "text/plain": [
       "Plot with title \"density\""
      ]
     },
     "metadata": {},
     "output_type": "display_data"
    }
   ],
   "source": [
    "#Histogram \n",
    "hist(k_lowest, main = \" Third Lowest Histogram\", xlab = \"Third Lowest Value\", col = \"pink2\")\n",
    "\n",
    "#Line Graph\n",
    "S1 <- k\n",
    "S2 <- n+1-k\n",
    "beta_dist <- dbeta(k_lowest, S1, S2)\n",
    "density(beta_dist)\n",
    "plot(density(beta_dist),col=\"pink2\",lwd=2,main=\"density\")\n"
   ]
  },
  {
   "cell_type": "code",
   "execution_count": 24,
   "id": "72f22a8c-3251-421b-a4bb-df82d3d95aac",
   "metadata": {},
   "outputs": [
    {
     "data": {
      "text/html": [
       "0.272645841212873"
      ],
      "text/latex": [
       "0.272645841212873"
      ],
      "text/markdown": [
       "0.272645841212873"
      ],
      "text/plain": [
       "[1] 0.2726458"
      ]
     },
     "metadata": {},
     "output_type": "display_data"
    },
    {
     "data": {
      "text/html": [
       "0.128815112093909"
      ],
      "text/latex": [
       "0.128815112093909"
      ],
      "text/markdown": [
       "0.128815112093909"
      ],
      "text/plain": [
       "[1] 0.1288151"
      ]
     },
     "metadata": {},
     "output_type": "display_data"
    }
   ],
   "source": [
    "#Mean and standard deviation\n",
    "mean(k_lowest)\n",
    "sd(k_lowest)"
   ]
  },
  {
   "cell_type": "markdown",
   "id": "051491ed-5238-4edc-85f6-b7964e0dc64d",
   "metadata": {},
   "source": [
    "> **💡Interpretation of Results💡-**\n",
    ">We conducted a Monte Carlo simulation by generating a matrix consisting of 100 random uniform variables in each of the 10,000 trials. After sorting the matrix row-wise in ascending order, we selected the third column, which corresponds to the third lowest value across all trials. Next, we constructed a beta distribution with shape parameters 1= k and shape 2= n+1-k where is k is 3 and n represents the 10000 trails to model the distribution of the third lowest values. We then plotted the density plot for this beta distribution. Following that, we computed the mean and standard deviation of the Monte Carlo simulation results."
   ]
  },
  {
   "cell_type": "markdown",
   "id": "37063169-770f-4ef1-95a7-cba336cc3735",
   "metadata": {},
   "source": [
    "#### Solution - 2"
   ]
  },
  {
   "cell_type": "code",
   "execution_count": 54,
   "id": "7856c0cd-a638-4017-a63c-278bfa6d4374",
   "metadata": {},
   "outputs": [],
   "source": [
    "set.seed(123)\n",
    "\n",
    "# Define the rate of the exponential distribution & specify the number of trials\n",
    "rate <- 10\n",
    "trials <- 10000\n"
   ]
  },
  {
   "cell_type": "code",
   "execution_count": 55,
   "id": "2ce473d8-990f-4f49-800e-4dc6109f54bb",
   "metadata": {},
   "outputs": [],
   "source": [
    "# Simulate the time until the next purchase for each trial\n",
    "time_until_purchase <- matrix(rexp(trials*100, rate),ncol=100)\n",
    "y<-apply(time_until_purchase,1,cumsum)\n",
    "\n",
    "z<-t(y)\n",
    "\n",
    "results<-matrix(0,nrow=nrow(z),ncol=ncol(z))\n",
    "\n",
    "for(i in 1:nrow(z)){\n",
    "  for(j in 1:ncol(z)){\n",
    "    if(z[i,j]<=1){\n",
    "      results[i,j]<-TRUE\n",
    "    }\n",
    "    else{\n",
    "      results[i,j]<-FALSE\n",
    "    }\n",
    "  }\n",
    "}\n",
    "\n",
    "final_results<-rowSums(results)\n"
   ]
  },
  {
   "cell_type": "code",
   "execution_count": 56,
   "id": "66e089df-800e-4a3d-9af0-1991ba0ad9a3",
   "metadata": {},
   "outputs": [
    {
     "data": {
      "image/png": "[encoded data removed]",
      "text/plain": [
       "Plot with title \"Purchases made per day using time taken\n",
       "            Exponential distribution\""
      ]
     },
     "metadata": {},
     "output_type": "display_data"
    }
   ],
   "source": [
    "# Histogram\n",
    "hist(final_results,\n",
    "     main=\"Purchases made per day using time taken\n",
    "            Exponential distribution\",\n",
    "     xlab=\"Purchases\",\n",
    "     ylab=\"Frequency\")\n"
   ]
  },
  {
   "cell_type": "code",
   "execution_count": 57,
   "id": "11429667-59ee-4cc2-a086-76f73ae54127",
   "metadata": {},
   "outputs": [],
   "source": [
    "# Calculate the number of purchases per day for each trial\n",
    "\n",
    "purchases_per_day <- rpois(trials, lambda = 10)"
   ]
  },
  {
   "cell_type": "code",
   "execution_count": 58,
   "id": "786ab0b4-faa0-4753-adb2-55e06cf71706",
   "metadata": {},
   "outputs": [
    {
     "data": {
      "image/png": "[encoded data removed]",
      "text/plain": [
       "Plot with title \"Histogram of purchases_per_day\""
      ]
     },
     "metadata": {},
     "output_type": "display_data"
    },
    {
     "data": {
      "image/png": "[encoded data removed]",
      "text/plain": [
       "Plot with title \"Number of Purchases per Day - Poisson Distribution\""
      ]
     },
     "metadata": {},
     "output_type": "display_data"
    }
   ],
   "source": [
    "# Histogram\n",
    "hist(purchases_per_day, \n",
    "     col = \"skyblue\",\n",
    "     border = \"black\",\n",
    "     main = \"Number of Purchases per Day - Poisson Distribution\",\n",
    "     xlab = \"Number of Purchases\",\n",
    "     ylab = \"Frequency\",\n",
    "     xlim = c(0, max(purchases_per_day)), \n",
    "     ylim = c(0, max(hist(purchases_per_day)$counts) + 500), \n",
    "     labels = TRUE,         \n",
    "     )"
   ]
  },
  {
   "cell_type": "markdown",
   "id": "0bc40661-5709-48d3-a704-5967ceb361b3",
   "metadata": {},
   "source": [
    "> **💡Interpretation of Results💡-**\n",
    "> \n",
    "> We initiated the analysis by generating a matrix representing random exponential distribution variables for 10,000 trials, each at a rate of 10. To ensure the time taken reached approximately one day, we expanded the trials by a factor of 100.\n",
    ">\n",
    "> Subsequently, we performed cumulative summation on each row of the resulting matrix and transposed it back to its original orientation. This process facilitated the calculation of the purchases made during each day.\n",
    ">\n",
    "> Following this, we initialized a new matrix to store the outcomes. Iterating through each element of the matrix, we assessed whether it reached one day, assigning a value of \"true\" if the element was less than one and \"false\" otherwise. Summing the rows of the resulting matrix yielded the exponential distribution of purchases made during each day based on time taken.\n",
    ">\n",
    "> The resulting histogram showcased the distribution of purchases per day under the exponential distribution assumption.\n",
    ">\n",
    "> Furthermore, we generated a random Poisson distribution for the 10,000 trials with a lambda value of 10 to estimate the purchases made per day. The resulting histogram illustrated the distribution of purchases per day under the Poisson distribution assumption.\n",
    ">\n"
   ]
  },
  {
   "cell_type": "markdown",
   "id": "8010da20-1bb0-4ef7-8da7-a8ec8707ca53",
   "metadata": {},
   "source": [
    "#### Solution - 3 a]"
   ]
  },
  {
   "cell_type": "code",
   "execution_count": 73,
   "id": "af02a900-82a3-47a7-993b-b405f217ea8b",
   "metadata": {},
   "outputs": [],
   "source": [
    "# Set seed for reproducibility\n",
    "set.seed(123)"
   ]
  },
  {
   "cell_type": "code",
   "execution_count": 74,
   "id": "2f2c6981-7e53-48e1-a8c3-40f3c81e889b",
   "metadata": {},
   "outputs": [],
   "source": [
    "# Define parameters\n",
    "shape <- 4.5\n",
    "scale <- 39\n",
    "premium <- 115\n",
    "benefit <- 1000000\n",
    "rate <- 0.065\n",
    "n <- 10000\n",
    "terms <- 240"
   ]
  },
  {
   "cell_type": "code",
   "execution_count": 81,
   "id": "95f021d7-b5d6-45b2-9c74-891f8dab91ce",
   "metadata": {},
   "outputs": [],
   "source": [
    "cashflows<-c()\n",
    "cashperiods<-c()\n"
   ]
  },
  {
   "cell_type": "code",
   "execution_count": 84,
   "id": "141ed56b-afda-4c3a-aa03-e5f7d9c812bc",
   "metadata": {},
   "outputs": [],
   "source": [
    "# Simulate cash flows and periods for each iteration\n",
    "for(i in 1:n){\n",
    "  weibull <- rweibull(1,shape,scale)\n",
    "  term <- weibull*12\n",
    "  death <- ifelse(term<terms,1,0)\n",
    "  plapse <- rgeom(1,0.997)\n",
    "  if (plapse==1){\n",
    "    cashflow <- term*premium\n",
    "    cash_period <- term\n",
    "  }\n",
    "  else if(term>terms){\n",
    "    cashflow <- terms*premium\n",
    "    cashperiod <- terms\n",
    "  }\n",
    "  else if(term<terms){\n",
    "    cashflow <- term*premium-benefit\n",
    "    cashperiod <- term\n",
    "  }\n",
    "  cashflows <- c(cashflows,cashflow)\n",
    "  cashperiods <- c(cashperiods,cashperiod)\n",
    "}\n"
   ]
  },
  {
   "cell_type": "code",
   "execution_count": 85,
   "id": "a6ee3f37-3130-475b-b22d-fe16c9bd5af9",
   "metadata": {},
   "outputs": [],
   "source": [
    "mainnpv <- c()\n",
    "\n",
    "for(i in 1:n){\n",
    "  npv <- sum(cashflows[i] / ((1 + rate/12)^(1:length(cashperiods[i]))))\n",
    "  mainnpv <- c(mainnpv,npv)\n",
    "}\n",
    "\n",
    "options(scipen = 10000)\n"
   ]
  },
  {
   "cell_type": "code",
   "execution_count": 86,
   "id": "4eaf7d36-6238-4e38-909b-680b9e28068f",
   "metadata": {},
   "outputs": [
    {
     "data": {
      "image/png": "[encoded data removed]",
      "text/plain": [
       "Plot with title \"Histogram of NPV\""
      ]
     },
     "metadata": {},
     "output_type": "display_data"
    }
   ],
   "source": [
    "hist(mainnpv,breaks=100,col=\"pink3\",main=\"Histogram of NPV\",xlab = \"npv\")\n"
   ]
  },
  {
   "cell_type": "code",
   "execution_count": 87,
   "id": "80a25709-fce8-4447-a8b7-5f035942f7f7",
   "metadata": {},
   "outputs": [],
   "source": [
    "#Calculate the mean and standard deviation of the NPV\n",
    "mean_npv<-mean(mainnpv)\n",
    "sd_npv<-sd(mainnpv)\n"
   ]
  },
  {
   "cell_type": "code",
   "execution_count": 88,
   "id": "3d68d322-280b-431b-9524-918959f22717",
   "metadata": {},
   "outputs": [
    {
     "name": "stderr",
     "output_type": "stream",
     "text": [
      "Not making a profit.\n"
     ]
    }
   ],
   "source": [
    "# Calculate the profitability of the insurance company\n",
    "profit <- mean_npv > 0\n",
    "if (profit) {\n",
    "  message(\"making a profit.\")\n",
    "} else {\n",
    "  message(\"Not making a profit.\")\n",
    "}\n"
   ]
  },
  {
   "cell_type": "code",
   "execution_count": 89,
   "id": "92116d56-1c88-447a-951b-271184120c64",
   "metadata": {},
   "outputs": [],
   "source": [
    "# 95% confidence interval for the mean of the NPV\n",
    "cp <- t.test(mainnpv)$conf.int"
   ]
  },
  {
   "cell_type": "code",
   "execution_count": 90,
   "id": "84ae0be0-b6e0-4c03-bfd4-684785652c9d",
   "metadata": {},
   "outputs": [
    {
     "name": "stderr",
     "output_type": "stream",
     "text": [
      "\t 95% confidence interval for the mean of the NPV (-26279.2483415651, -17770.5238348837).\n",
      "The number of iterations needed for a 99% confidence interval with a half width of $200 is 7813431\n"
     ]
    }
   ],
   "source": [
    "# Interpret the result\n",
    "message(\"\t 95% confidence interval for the mean of the NPV (\", cp[1], \", \", cp[2], \").\")\n",
    "\n",
    "#\tHow many iterations would be necessary to provide a 99% confidence interval with a half width of $200\n",
    "n_ite <- ceiling((qnorm(0.995) * sd_npv / 200)^2)\n",
    "\n",
    "message(\"The number of iterations needed for a 99% confidence interval with a half width of $200 is \", n_ite)\n"
   ]
  },
  {
   "cell_type": "code",
   "execution_count": 91,
   "id": "5ead6828-ac92-4923-b79f-b99f6e0adb59",
   "metadata": {},
   "outputs": [
    {
     "name": "stderr",
     "output_type": "stream",
     "text": [
      "The company can be 90% sure their NPV will be at least $27451.31.\n"
     ]
    }
   ],
   "source": [
    "# The company can be 90% sure their npv will be at least x\n",
    "x <- quantile(mainnpv, 0.1, type = 1)\n",
    "\n",
    "message(\"The company can be 90% sure their NPV will be at least $\", round(x, 2), \".\")\n"
   ]
  },
  {
   "cell_type": "code",
   "execution_count": 92,
   "id": "43a55fac-1e53-45b6-a173-0fe37bcc5acc",
   "metadata": {},
   "outputs": [
    {
     "name": "stderr",
     "output_type": "stream",
     "text": [
      "The company can be 99% sure their NPV will be at least $-975229.71.\n"
     ]
    }
   ],
   "source": [
    "# The company can be 99% sure their npv will be at least y\n",
    "y <- quantile(mainnpv, 0.01, type = 1)\n",
    "\n",
    "\n",
    "message(\"The company can be 99% sure their NPV will be at least $\", round(y, 2), \".\")\n"
   ]
  },
  {
   "cell_type": "markdown",
   "id": "ab8f2010-d42f-43ba-955d-090794b3b047",
   "metadata": {},
   "source": [
    "> **💡Interpretation of Results💡-**\n",
    "> \n",
    "> We initialized the analysis by setting parameters such as shape, scale, premium, benefit, rate, the number of simulations n, and terms. These parameters were utilized to model cash flows in an insurance context.\n",
    "> Subsequently, we simulated cash flows and their corresponding periods for n  iterations. We employed the Weibull distribution to generate the time until an event occurs, such as policy lapse or death. Based on these events and the policy terms, we calculated cash flows accordingly.\n",
    "> The resulting cash flows were then used to compute the Net Present Value (NPV) for each iteration, considering a discount rate of 6.5%  annually. Histogram of NPV values was plotted to visualize the distribution of NPVs.\n",
    "> Furthermore, we computed the mean and standard deviation of the NPV, assessed the profitability of the insurance company, and determined a 95% confidence interval for the mean NPV using a t-test. Additionally, we calculated the number of iterations needed to achieve a 99% confidence interval with a half-width of $200.\n",
    "> Lastly, we estimated the minimum NPV values at which the company can be 90% and 99% confident. This information provides insights into the financial stability and risk management of the insurance company."
   ]
  },
  {
   "cell_type": "markdown",
   "id": "5a1bdabd-73c7-4c64-ab73-0b3ea52b32e3",
   "metadata": {},
   "source": [
    "#### Solution - 3 b]"
   ]
  },
  {
   "cell_type": "code",
   "execution_count": 93,
   "id": "d0f9243c-0082-4e86-bc71-fb38a736f508",
   "metadata": {},
   "outputs": [],
   "source": [
    "# Set seed for reproducibility\n",
    "set.seed(123)"
   ]
  },
  {
   "cell_type": "code",
   "execution_count": 94,
   "id": "71ef70d0-b68b-4535-942e-9b2fd64a878b",
   "metadata": {},
   "outputs": [],
   "source": [
    "# Define parameters\n",
    "shape <- 4.5\n",
    "scale <- 39\n",
    "premium <- 115\n",
    "benefit <- 1000000\n",
    "rate <- 0.065\n",
    "n <- 1000\n",
    "terms<-240\n"
   ]
  },
  {
   "cell_type": "code",
   "execution_count": 95,
   "id": "3c11a52f-3b2d-4131-9a8b-572c8b30a45a",
   "metadata": {},
   "outputs": [],
   "source": [
    "cashflows<-c()\n",
    "cashperiods<-c()\n",
    "finalterm<-c()"
   ]
  },
  {
   "cell_type": "code",
   "execution_count": 96,
   "id": "bbdf3354-f138-46e9-a8c3-f7a5888db4da",
   "metadata": {},
   "outputs": [],
   "source": [
    "for(i in 1:n){\n",
    "  weibull<-rweibull(1,shape,scale)\n",
    "  term<-weibull*12\n",
    "  finalterm<-c(finalterm,term)\n",
    "  death<-ifelse(term<terms,1,0)\n",
    "  plapse<-rgeom(1,0.997)\n",
    "  if (plapse==1){\n",
    "    cashflow<-term*premium\n",
    "    cash_period<-term\n",
    "  }\n",
    "  else if(term>terms){\n",
    "    cashflow<-terms*premium\n",
    "    cashperiod<-terms\n",
    "  }\n",
    "  else if(term<terms){\n",
    "    cashflow<-term*premium-benefit\n",
    "    cashperiod<-term\n",
    "  }\n",
    "  cashflows<-c(cashflows,cashflow)\n",
    "  cashperiods<-c(cashperiods,cashperiod)\n",
    "}"
   ]
  },
  {
   "cell_type": "code",
   "execution_count": 97,
   "id": "b03cdc4d-fb15-49e4-9354-09e41d9cc11a",
   "metadata": {},
   "outputs": [],
   "source": [
    "mainnpv<-c()\n",
    "\n",
    "for(i in 1:n){\n",
    "  npv <- sum(cashflows[i] / ((1 + rate/12)^(1:length(cashperiods[i]))))\n",
    "  mainnpv<-c(mainnpv,npv)\n",
    "}\n"
   ]
  },
  {
   "cell_type": "code",
   "execution_count": 98,
   "id": "0e98cc4d-2ace-4e32-b73f-4765c52bdc36",
   "metadata": {},
   "outputs": [],
   "source": [
    "#Dataframe storing the values\n",
    "df<-data.frame(finalterm,cashflows,cashperiods,mainnpv)\n",
    "\n",
    "options(scipen = 10000)\n"
   ]
  },
  {
   "cell_type": "code",
   "execution_count": 105,
   "id": "5a932d15-a5f4-46cd-87ee-35339daca74c",
   "metadata": {},
   "outputs": [
    {
     "data": {
      "image/png": "[encoded data removed]",
      "text/plain": [
       "Plot with title \"Histogram of NPV\""
      ]
     },
     "metadata": {},
     "output_type": "display_data"
    }
   ],
   "source": [
    "# Create a histogram of the NPV\n",
    "hist(mainnpv,breaks=100,col=\"skyblue\",main=\"Histogram of NPV\",xlab=\"NPV\")\n",
    "\n",
    "# Calculate the mean and standard deviation of the NPV\n",
    "mean_npv<-mean(mainnpv)\n",
    "sd_npv<-sd(mainnpv)\n"
   ]
  },
  {
   "cell_type": "code",
   "execution_count": 107,
   "id": "52890c07-8e1c-4ce4-8869-44db82e1895b",
   "metadata": {},
   "outputs": [
    {
     "name": "stderr",
     "output_type": "stream",
     "text": [
      "Not making any profit.\n"
     ]
    }
   ],
   "source": [
    "# Calculate the profitability of the insurance company\n",
    "profit <- mean_npv > 0\n",
    "if (profit) {\n",
    "  message(\"making a profit.\")\n",
    "} else {\n",
    "  message(\"Not making any profit.\")\n",
    "}\n"
   ]
  },
  {
   "cell_type": "code",
   "execution_count": 108,
   "id": "882fb661-346f-42f8-99e0-a1c4283599c3",
   "metadata": {},
   "outputs": [
    {
     "name": "stderr",
     "output_type": "stream",
     "text": [
      "The 95% confidence interval for the mean of the NPV (-34863.1745713295, -8048.9167035523).\n"
     ]
    }
   ],
   "source": [
    "# 95% confidence interval for the mean of the NPV\n",
    "cp <- t.test(mainnpv)$conf.int\n",
    "\n",
    "# Interpret the result\n",
    "message(\"The 95% confidence interval for the mean of the NPV (\", cp[1], \", \", cp[2], \").\")"
   ]
  },
  {
   "cell_type": "code",
   "execution_count": 102,
   "id": "e8b0b8f9-b16d-4b76-a981-44f90f2d962d",
   "metadata": {},
   "outputs": [
    {
     "name": "stderr",
     "output_type": "stream",
     "text": [
      "The number of iterations needed for a 99% confidence interval with a half width of $200 is 7742774\n"
     ]
    }
   ],
   "source": [
    "# How many iterations would be necessary to provide a 99% confidence interval with a half width of $200\n",
    "n_ite <- ceiling((qnorm(0.995) * sd_npv / 200)^2)\n",
    "\n",
    "message(\"The number of iterations needed for a 99% confidence interval with a half width of $200 is \", n_ite)"
   ]
  },
  {
   "cell_type": "code",
   "execution_count": 103,
   "id": "6a1b3e87-aa59-425c-81fa-6e3dd0e0da0a",
   "metadata": {},
   "outputs": [
    {
     "name": "stderr",
     "output_type": "stream",
     "text": [
      "The company can be 90% sure their NPV will be at least $27451.31.\n"
     ]
    }
   ],
   "source": [
    "# The company can be 90% sure their npv will be at least x\n",
    "x <- quantile(mainnpv, 0.1, type = 1)\n",
    "\n",
    "message(\"The company can be 90% sure their NPV will be at least $\", round(x, 2), \".\")\n"
   ]
  },
  {
   "cell_type": "code",
   "execution_count": 104,
   "id": "285dbbfb-6238-44bc-a445-ad7bead4207a",
   "metadata": {},
   "outputs": [
    {
     "name": "stderr",
     "output_type": "stream",
     "text": [
      "The company can be 99% sure their NPV will be at least $-976160.54.\n"
     ]
    }
   ],
   "source": [
    "# The company can be 99% sure their npv will be at least y\n",
    "y <- quantile(mainnpv, 0.01, type = 1)\n",
    "\n",
    "\n",
    "message(\"The company can be 99% sure their NPV will be at least $\", round(y, 2), \".\")"
   ]
  },
  {
   "cell_type": "markdown",
   "id": "2b41e084-e846-43ae-9715-53af3946c2f8",
   "metadata": {},
   "source": [
    "> **💡Interpretation of Results💡-**\n",
    "> \n",
    "> 1. **Profitability Assessment**: The analysis indicates that the insurance company is not making a profit. This conclusion is drawn from the mean NPV value being negative, suggesting that, on average, the company's cash flows are insufficient to cover its expenses and liabilities.\n",
    ">\n",
    "> 2. **95% Confidence Interval for Mean NPV**: The 95% confidence interval for the mean NPV ranges from approximately -$34,863 to -$8,049. This interval provides a range within which we can be 95% confident that the true mean NPV of the insurance company lies.\n",
    ">\n",
    "> 3. **Number of Iterations for 99% Confidence Interval**: To achieve a 99% confidence interval with a half-width of $200, approximately 7,742,774 iterations would be necessary. This large number indicates the precision required to estimate the mean NPV with such a high level of confidence and small margin of error.\n",
    ">\n",
    "> 4. **Minimum NPV for 90% Confidence**: The insurance company can be 90% confident that its NPV will be at least $27,451.31. This value serves as a threshold below which the company can be reasonably confident that its financial performance will not fall.\n",
    ">\n",
    "> 5. **Minimum NPV for 99% Confidence**: With 99% confidence, the insurance company can expect its NPV to be at least -$976,160.54. This value provides a more conservative estimate, indicating the minimum level of NPV below which the company can be highly confident about its financial standing.\n",
    ">\n",
    "> Overall, these interpretations provide insights into the financial health and risk exposure of the insurance company, guiding decision-making processes regarding investment, pricing strategies, and risk management."
   ]
  }
 ],
 "metadata": {
  "kernelspec": {
   "display_name": "R",
   "language": "R",
   "name": "ir"
  },
  "language_info": {
   "codemirror_mode": "r",
   "file_extension": ".r",
   "mimetype": "text/x-r-source",
   "name": "R",
   "pygments_lexer": "r",
   "version": "3.6.1"
  }
 },
 "nbformat": 4,
 "nbformat_minor": 5
}
